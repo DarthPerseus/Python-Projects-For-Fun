{
 "cells": [
  {
   "cell_type": "code",
   "execution_count": 15,
   "id": "682424f4",
   "metadata": {},
   "outputs": [
    {
     "name": "stdout",
     "output_type": "stream",
     "text": [
      "Total word count: 1258\n"
     ]
    }
   ],
   "source": [
    "# Word Count in text file\n",
    "with open(r\"C:\\Users\\Inspiron_5502\\OneDrive\\Desktop\\Coursera\\Google Python\\Python Notes.txt\", \"r\", encoding=\"utf-8\") as file:\n",
    "    count = 0\n",
    "    \n",
    "    # Loop through each line in the file\n",
    "    for line in file:\n",
    "        words = line.split(\" \")  # Split the line into words\n",
    "        count += len(words)  # Count the words in the current line\n",
    "\n",
    "print(f\"Total word count: {count}\")"
   ]
  },
  {
   "cell_type": "code",
   "execution_count": null,
   "id": "fe742d8d",
   "metadata": {},
   "outputs": [],
   "source": []
  }
 ],
 "metadata": {
  "kernelspec": {
   "display_name": "Python 3 (ipykernel)",
   "language": "python",
   "name": "python3"
  },
  "language_info": {
   "codemirror_mode": {
    "name": "ipython",
    "version": 3
   },
   "file_extension": ".py",
   "mimetype": "text/x-python",
   "name": "python",
   "nbconvert_exporter": "python",
   "pygments_lexer": "ipython3",
   "version": "3.9.13"
  }
 },
 "nbformat": 4,
 "nbformat_minor": 5
}
